{
  "nbformat": 4,
  "nbformat_minor": 0,
  "metadata": {
    "colab": {
      "provenance": []
    },
    "kernelspec": {
      "name": "python3",
      "display_name": "Python 3"
    },
    "language_info": {
      "name": "python"
    }
  },
  "cells": [
    {
      "cell_type": "code",
      "execution_count": 6,
      "metadata": {
        "id": "FM30qbKIL_iN"
      },
      "outputs": [],
      "source": [
        "#CODSOFT-Internship\n",
        "#Task-3, Password Generator\n"
      ]
    },
    {
      "cell_type": "code",
      "source": [
        "import string\n",
        "import random"
      ],
      "metadata": {
        "id": "b4Ajd7zXOPiF"
      },
      "execution_count": 7,
      "outputs": []
    },
    {
      "cell_type": "code",
      "source": [
        "#Getting the length of the password\n",
        "length= int(input(\"Enter password length: \"))\n",
        "\n",
        "print(\"\\n\\nA password generator is a useful tool that generates strong and random passwords for users.\\n A password contains of some digits, letters, special characters.\\n\\n\")\n",
        "print(\"Choose a number which you want to add in the password: \\n1.Digits\\n2.Letters\\n3.Special Character\\n4.Exit\\n\\n\")\n",
        "\n",
        "List = \"\"\n",
        "\n",
        "#Getting character set for the password\n",
        "while(True):\n",
        "  choice= int(input(\"Pick a number: \"))\n",
        "  if(choice==1):\n",
        "    List = List + string.digits\n",
        "  elif(choice==2):\n",
        "    List= List + string.ascii_letters\n",
        "  elif(choice==3):\n",
        "    List= List + string.punctuation\n",
        "  elif(choice==4):\n",
        "    break\n",
        "  else:\n",
        "    print(\"Enter a valid choice\")\n",
        "\n",
        "password=[]\n",
        "\n",
        "for i in range(length):\n",
        "  #Picking random characters like digits, letters etc.\n",
        "  char= random.choice(List)\n",
        "\n",
        "  #adding the character one by one to generate the password\n",
        "  password.append(char)\n",
        "\n",
        "#Printing the generated password\n",
        "print(\"The password is (generated with choice given by you): \"+ \" \".join(password))\n"
      ],
      "metadata": {
        "colab": {
          "base_uri": "https://localhost:8080/"
        },
        "id": "RMlJ6HRPOUtS",
        "outputId": "5f5832e6-d6ab-48ad-dad6-e8f35f38b563"
      },
      "execution_count": 9,
      "outputs": [
        {
          "output_type": "stream",
          "name": "stdout",
          "text": [
            "Enter password length: 8\n",
            "\n",
            "\n",
            "A password generator is a useful tool that generates strong and random passwords for users.\n",
            " A password contains of some digits, letters, special characters.\n",
            "\n",
            "\n",
            "Choose a number which you want to add in the password: \n",
            "1.Digits\n",
            "2.Letters\n",
            "3.Special Character\n",
            "4.Exit\n",
            "\n",
            "\n",
            "Pick a number: 1\n",
            "Pick a number: 2\n",
            "Pick a number: 3\n",
            "Pick a number: 4\n",
            "The password is (generated with choice given by you): 1 1 D O + N \" U\n"
          ]
        }
      ]
    }
  ]
}